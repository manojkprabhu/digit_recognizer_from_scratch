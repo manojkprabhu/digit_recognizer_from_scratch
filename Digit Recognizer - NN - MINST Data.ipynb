{
 "cells": [
  {
   "cell_type": "markdown",
   "id": "8531fe46",
   "metadata": {},
   "source": [
    "#        Deep Learning Image Classification with Neural Networks"
   ]
  },
  {
   "cell_type": "markdown",
   "id": "f640da4c",
   "metadata": {},
   "source": [
    "Introduction:\n",
    "The provided code is an implementation of a neural network for image classification using the popular MNIST dataset, which consists of handwritten digit images. The code performs various tasks, including data preprocessing, forward and backward propagation, parameter initialization, and evaluation of the model's accuracy."
   ]
  },
  {
   "cell_type": "markdown",
   "id": "b8b6426e",
   "metadata": {},
   "source": [
    "Source: https://www.kaggle.com/competitions/digit-recognizer"
   ]
  },
  {
   "cell_type": "markdown",
   "id": "6f732d04",
   "metadata": {},
   "source": [
    "### Importing Required Libraries"
   ]
  },
  {
   "cell_type": "code",
   "execution_count": 1,
   "id": "52948e74",
   "metadata": {},
   "outputs": [],
   "source": [
    "import numpy as np\n",
    "import pandas as pd\n",
    "import matplotlib.pyplot as plt"
   ]
  },
  {
   "cell_type": "markdown",
   "id": "3fddf1ec",
   "metadata": {},
   "source": [
    "### Data Loading and Preprocessing\n",
    "#### Code 1:"
   ]
  },
  {
   "cell_type": "code",
   "execution_count": 2,
   "id": "57be8f2a",
   "metadata": {},
   "outputs": [
    {
     "data": {
      "text/html": [
       "<div>\n",
       "<style scoped>\n",
       "    .dataframe tbody tr th:only-of-type {\n",
       "        vertical-align: middle;\n",
       "    }\n",
       "\n",
       "    .dataframe tbody tr th {\n",
       "        vertical-align: top;\n",
       "    }\n",
       "\n",
       "    .dataframe thead th {\n",
       "        text-align: right;\n",
       "    }\n",
       "</style>\n",
       "<table border=\"1\" class=\"dataframe\">\n",
       "  <thead>\n",
       "    <tr style=\"text-align: right;\">\n",
       "      <th></th>\n",
       "      <th>label</th>\n",
       "      <th>pixel0</th>\n",
       "      <th>pixel1</th>\n",
       "      <th>pixel2</th>\n",
       "      <th>pixel3</th>\n",
       "      <th>pixel4</th>\n",
       "      <th>pixel5</th>\n",
       "      <th>pixel6</th>\n",
       "      <th>pixel7</th>\n",
       "      <th>pixel8</th>\n",
       "      <th>...</th>\n",
       "      <th>pixel774</th>\n",
       "      <th>pixel775</th>\n",
       "      <th>pixel776</th>\n",
       "      <th>pixel777</th>\n",
       "      <th>pixel778</th>\n",
       "      <th>pixel779</th>\n",
       "      <th>pixel780</th>\n",
       "      <th>pixel781</th>\n",
       "      <th>pixel782</th>\n",
       "      <th>pixel783</th>\n",
       "    </tr>\n",
       "  </thead>\n",
       "  <tbody>\n",
       "    <tr>\n",
       "      <th>0</th>\n",
       "      <td>1</td>\n",
       "      <td>0</td>\n",
       "      <td>0</td>\n",
       "      <td>0</td>\n",
       "      <td>0</td>\n",
       "      <td>0</td>\n",
       "      <td>0</td>\n",
       "      <td>0</td>\n",
       "      <td>0</td>\n",
       "      <td>0</td>\n",
       "      <td>...</td>\n",
       "      <td>0</td>\n",
       "      <td>0</td>\n",
       "      <td>0</td>\n",
       "      <td>0</td>\n",
       "      <td>0</td>\n",
       "      <td>0</td>\n",
       "      <td>0</td>\n",
       "      <td>0</td>\n",
       "      <td>0</td>\n",
       "      <td>0</td>\n",
       "    </tr>\n",
       "    <tr>\n",
       "      <th>1</th>\n",
       "      <td>0</td>\n",
       "      <td>0</td>\n",
       "      <td>0</td>\n",
       "      <td>0</td>\n",
       "      <td>0</td>\n",
       "      <td>0</td>\n",
       "      <td>0</td>\n",
       "      <td>0</td>\n",
       "      <td>0</td>\n",
       "      <td>0</td>\n",
       "      <td>...</td>\n",
       "      <td>0</td>\n",
       "      <td>0</td>\n",
       "      <td>0</td>\n",
       "      <td>0</td>\n",
       "      <td>0</td>\n",
       "      <td>0</td>\n",
       "      <td>0</td>\n",
       "      <td>0</td>\n",
       "      <td>0</td>\n",
       "      <td>0</td>\n",
       "    </tr>\n",
       "    <tr>\n",
       "      <th>2</th>\n",
       "      <td>1</td>\n",
       "      <td>0</td>\n",
       "      <td>0</td>\n",
       "      <td>0</td>\n",
       "      <td>0</td>\n",
       "      <td>0</td>\n",
       "      <td>0</td>\n",
       "      <td>0</td>\n",
       "      <td>0</td>\n",
       "      <td>0</td>\n",
       "      <td>...</td>\n",
       "      <td>0</td>\n",
       "      <td>0</td>\n",
       "      <td>0</td>\n",
       "      <td>0</td>\n",
       "      <td>0</td>\n",
       "      <td>0</td>\n",
       "      <td>0</td>\n",
       "      <td>0</td>\n",
       "      <td>0</td>\n",
       "      <td>0</td>\n",
       "    </tr>\n",
       "    <tr>\n",
       "      <th>3</th>\n",
       "      <td>4</td>\n",
       "      <td>0</td>\n",
       "      <td>0</td>\n",
       "      <td>0</td>\n",
       "      <td>0</td>\n",
       "      <td>0</td>\n",
       "      <td>0</td>\n",
       "      <td>0</td>\n",
       "      <td>0</td>\n",
       "      <td>0</td>\n",
       "      <td>...</td>\n",
       "      <td>0</td>\n",
       "      <td>0</td>\n",
       "      <td>0</td>\n",
       "      <td>0</td>\n",
       "      <td>0</td>\n",
       "      <td>0</td>\n",
       "      <td>0</td>\n",
       "      <td>0</td>\n",
       "      <td>0</td>\n",
       "      <td>0</td>\n",
       "    </tr>\n",
       "    <tr>\n",
       "      <th>4</th>\n",
       "      <td>0</td>\n",
       "      <td>0</td>\n",
       "      <td>0</td>\n",
       "      <td>0</td>\n",
       "      <td>0</td>\n",
       "      <td>0</td>\n",
       "      <td>0</td>\n",
       "      <td>0</td>\n",
       "      <td>0</td>\n",
       "      <td>0</td>\n",
       "      <td>...</td>\n",
       "      <td>0</td>\n",
       "      <td>0</td>\n",
       "      <td>0</td>\n",
       "      <td>0</td>\n",
       "      <td>0</td>\n",
       "      <td>0</td>\n",
       "      <td>0</td>\n",
       "      <td>0</td>\n",
       "      <td>0</td>\n",
       "      <td>0</td>\n",
       "    </tr>\n",
       "    <tr>\n",
       "      <th>5</th>\n",
       "      <td>0</td>\n",
       "      <td>0</td>\n",
       "      <td>0</td>\n",
       "      <td>0</td>\n",
       "      <td>0</td>\n",
       "      <td>0</td>\n",
       "      <td>0</td>\n",
       "      <td>0</td>\n",
       "      <td>0</td>\n",
       "      <td>0</td>\n",
       "      <td>...</td>\n",
       "      <td>0</td>\n",
       "      <td>0</td>\n",
       "      <td>0</td>\n",
       "      <td>0</td>\n",
       "      <td>0</td>\n",
       "      <td>0</td>\n",
       "      <td>0</td>\n",
       "      <td>0</td>\n",
       "      <td>0</td>\n",
       "      <td>0</td>\n",
       "    </tr>\n",
       "    <tr>\n",
       "      <th>6</th>\n",
       "      <td>7</td>\n",
       "      <td>0</td>\n",
       "      <td>0</td>\n",
       "      <td>0</td>\n",
       "      <td>0</td>\n",
       "      <td>0</td>\n",
       "      <td>0</td>\n",
       "      <td>0</td>\n",
       "      <td>0</td>\n",
       "      <td>0</td>\n",
       "      <td>...</td>\n",
       "      <td>0</td>\n",
       "      <td>0</td>\n",
       "      <td>0</td>\n",
       "      <td>0</td>\n",
       "      <td>0</td>\n",
       "      <td>0</td>\n",
       "      <td>0</td>\n",
       "      <td>0</td>\n",
       "      <td>0</td>\n",
       "      <td>0</td>\n",
       "    </tr>\n",
       "    <tr>\n",
       "      <th>7</th>\n",
       "      <td>3</td>\n",
       "      <td>0</td>\n",
       "      <td>0</td>\n",
       "      <td>0</td>\n",
       "      <td>0</td>\n",
       "      <td>0</td>\n",
       "      <td>0</td>\n",
       "      <td>0</td>\n",
       "      <td>0</td>\n",
       "      <td>0</td>\n",
       "      <td>...</td>\n",
       "      <td>0</td>\n",
       "      <td>0</td>\n",
       "      <td>0</td>\n",
       "      <td>0</td>\n",
       "      <td>0</td>\n",
       "      <td>0</td>\n",
       "      <td>0</td>\n",
       "      <td>0</td>\n",
       "      <td>0</td>\n",
       "      <td>0</td>\n",
       "    </tr>\n",
       "    <tr>\n",
       "      <th>8</th>\n",
       "      <td>5</td>\n",
       "      <td>0</td>\n",
       "      <td>0</td>\n",
       "      <td>0</td>\n",
       "      <td>0</td>\n",
       "      <td>0</td>\n",
       "      <td>0</td>\n",
       "      <td>0</td>\n",
       "      <td>0</td>\n",
       "      <td>0</td>\n",
       "      <td>...</td>\n",
       "      <td>0</td>\n",
       "      <td>0</td>\n",
       "      <td>0</td>\n",
       "      <td>0</td>\n",
       "      <td>0</td>\n",
       "      <td>0</td>\n",
       "      <td>0</td>\n",
       "      <td>0</td>\n",
       "      <td>0</td>\n",
       "      <td>0</td>\n",
       "    </tr>\n",
       "    <tr>\n",
       "      <th>9</th>\n",
       "      <td>3</td>\n",
       "      <td>0</td>\n",
       "      <td>0</td>\n",
       "      <td>0</td>\n",
       "      <td>0</td>\n",
       "      <td>0</td>\n",
       "      <td>0</td>\n",
       "      <td>0</td>\n",
       "      <td>0</td>\n",
       "      <td>0</td>\n",
       "      <td>...</td>\n",
       "      <td>0</td>\n",
       "      <td>0</td>\n",
       "      <td>0</td>\n",
       "      <td>0</td>\n",
       "      <td>0</td>\n",
       "      <td>0</td>\n",
       "      <td>0</td>\n",
       "      <td>0</td>\n",
       "      <td>0</td>\n",
       "      <td>0</td>\n",
       "    </tr>\n",
       "  </tbody>\n",
       "</table>\n",
       "<p>10 rows × 785 columns</p>\n",
       "</div>"
      ],
      "text/plain": [
       "   label  pixel0  pixel1  pixel2  pixel3  pixel4  pixel5  pixel6  pixel7  \\\n",
       "0      1       0       0       0       0       0       0       0       0   \n",
       "1      0       0       0       0       0       0       0       0       0   \n",
       "2      1       0       0       0       0       0       0       0       0   \n",
       "3      4       0       0       0       0       0       0       0       0   \n",
       "4      0       0       0       0       0       0       0       0       0   \n",
       "5      0       0       0       0       0       0       0       0       0   \n",
       "6      7       0       0       0       0       0       0       0       0   \n",
       "7      3       0       0       0       0       0       0       0       0   \n",
       "8      5       0       0       0       0       0       0       0       0   \n",
       "9      3       0       0       0       0       0       0       0       0   \n",
       "\n",
       "   pixel8  ...  pixel774  pixel775  pixel776  pixel777  pixel778  pixel779  \\\n",
       "0       0  ...         0         0         0         0         0         0   \n",
       "1       0  ...         0         0         0         0         0         0   \n",
       "2       0  ...         0         0         0         0         0         0   \n",
       "3       0  ...         0         0         0         0         0         0   \n",
       "4       0  ...         0         0         0         0         0         0   \n",
       "5       0  ...         0         0         0         0         0         0   \n",
       "6       0  ...         0         0         0         0         0         0   \n",
       "7       0  ...         0         0         0         0         0         0   \n",
       "8       0  ...         0         0         0         0         0         0   \n",
       "9       0  ...         0         0         0         0         0         0   \n",
       "\n",
       "   pixel780  pixel781  pixel782  pixel783  \n",
       "0         0         0         0         0  \n",
       "1         0         0         0         0  \n",
       "2         0         0         0         0  \n",
       "3         0         0         0         0  \n",
       "4         0         0         0         0  \n",
       "5         0         0         0         0  \n",
       "6         0         0         0         0  \n",
       "7         0         0         0         0  \n",
       "8         0         0         0         0  \n",
       "9         0         0         0         0  \n",
       "\n",
       "[10 rows x 785 columns]"
      ]
     },
     "execution_count": 2,
     "metadata": {},
     "output_type": "execute_result"
    }
   ],
   "source": [
    "data = pd.read_csv('train.csv')\n",
    "data.head(10)"
   ]
  },
  {
   "cell_type": "markdown",
   "id": "4c5378cd",
   "metadata": {},
   "source": [
    "#### Explanation 1:\n",
    "This section of code imports necessary libraries, reads a CSV file named 'train.csv' into a Pandas DataFrame, and displays the first 10 rows of the dataset."
   ]
  },
  {
   "cell_type": "markdown",
   "id": "e7d93373",
   "metadata": {},
   "source": [
    "### Data Shuffling and Splitting\n",
    "\n",
    "#### Code 2:"
   ]
  },
  {
   "cell_type": "code",
   "execution_count": 3,
   "id": "a8c2501b",
   "metadata": {},
   "outputs": [],
   "source": [
    "data = np.array(data)\n",
    "m, n = data.shape\n",
    "np.random.shuffle(data)\n",
    "\n",
    "data_dev = data[0:1000].T\n",
    "Y_dev = data_dev[0]\n",
    "X_dev = data_dev[1:n]\n",
    "X_dev = X_dev / 255.\n",
    "\n",
    "data_train = data[1000:m].T\n",
    "Y_train = data_train[0]\n",
    "X_train = data_train[1:n]\n",
    "X_train = X_train / 255.\n",
    "_,m_train = X_train.shape"
   ]
  },
  {
   "cell_type": "markdown",
   "id": "3e20b683",
   "metadata": {},
   "source": [
    "#### Explanation 2:\n",
    "This section of code converts the dataset to a NumPy array, shuffles the data, and splits it into a development set (data_dev, X_dev, Y_dev) and a training set (data_train, X_train, Y_train). It also scales the pixel values to the range [0, 1]."
   ]
  },
  {
   "cell_type": "markdown",
   "id": "c0aa2238",
   "metadata": {},
   "source": [
    "### Initialization of Neural Network Parameters\n",
    "\n",
    "#### Code 3:"
   ]
  },
  {
   "cell_type": "code",
   "execution_count": 4,
   "id": "2760f6ab",
   "metadata": {},
   "outputs": [],
   "source": [
    "def init_params():\n",
    "    W1 = np.random.rand(10, 784) - 0.5\n",
    "    b1 = np.random.rand(10, 1) - 0.5\n",
    "    W2 = np.random.rand(10, 10) - 0.5\n",
    "    b2 = np.random.rand(10, 1) - 0.5\n",
    "    return W1, b1, W2, b2"
   ]
  },
  {
   "cell_type": "markdown",
   "id": "f6aba21c",
   "metadata": {},
   "source": [
    "#### Explanation 3:\n",
    "This code defines a function init_params() that initializes the parameters of a neural network, including weights (W1, W2) and biases (b1, b2), with random values within a specified range."
   ]
  },
  {
   "cell_type": "markdown",
   "id": "ad1cfd21",
   "metadata": {},
   "source": [
    "### Activation Functions\n",
    "\n",
    "#### Code 4:"
   ]
  },
  {
   "cell_type": "code",
   "execution_count": 15,
   "id": "4777dfdb",
   "metadata": {},
   "outputs": [],
   "source": [
    "def ReLU(Z):\n",
    "    return np.maximum(Z, 0)\n",
    "\n",
    "def softmax(Z):\n",
    "    A = np.exp(Z) / sum(np.exp(Z))\n",
    "    return A"
   ]
  },
  {
   "cell_type": "markdown",
   "id": "a1fd395c",
   "metadata": {},
   "source": [
    "#### Explanation 4:\n",
    "These functions define the Rectified Linear Unit (ReLU) and softmax activation functions, which are used in the neural network's hidden and output layers, respectively."
   ]
  },
  {
   "cell_type": "markdown",
   "id": "1a7c91f7",
   "metadata": {},
   "source": [
    "### Forward Propagation\n",
    "\n",
    "#### Code 5:"
   ]
  },
  {
   "cell_type": "code",
   "execution_count": 16,
   "id": "f2755a33",
   "metadata": {},
   "outputs": [],
   "source": [
    "def forward_prop(W1, b1, W2, b2, X):\n",
    "    Z1 = W1.dot(X) + b1\n",
    "    A1 = ReLU(Z1)\n",
    "    Z2 = W2.dot(A1) + b2\n",
    "    A2 = softmax(Z2)\n",
    "    return Z1, A1, Z2, A2"
   ]
  },
  {
   "cell_type": "markdown",
   "id": "fdbb97d1",
   "metadata": {},
   "source": [
    "#### Explanation 5:\n",
    "This code defines the forward_prop() function, which computes the forward propagation of the neural network, including the calculation of hidden layer activations (A1) and output layer activations (A2)."
   ]
  },
  {
   "cell_type": "markdown",
   "id": "e4feab8c",
   "metadata": {},
   "source": [
    "### Derivative of ReLU Activation\n",
    "\n",
    "#### Code 6:"
   ]
  },
  {
   "cell_type": "code",
   "execution_count": 17,
   "id": "ae8b5d40",
   "metadata": {},
   "outputs": [],
   "source": [
    "def ReLU_deriv(Z):\n",
    "    return Z > 0"
   ]
  },
  {
   "cell_type": "markdown",
   "id": "fd5ffb10",
   "metadata": {},
   "source": [
    "#### Explanation 6:\n",
    "This function defines the derivative of the ReLU activation function, which is used in the backpropagation process to calculate gradients."
   ]
  },
  {
   "cell_type": "markdown",
   "id": "54dd83b4",
   "metadata": {},
   "source": [
    "### One-Hot Encoding\n",
    "\n",
    "#### Code 7:"
   ]
  },
  {
   "cell_type": "code",
   "execution_count": 18,
   "id": "6ba2a981",
   "metadata": {},
   "outputs": [],
   "source": [
    "def one_hot(Y):\n",
    "    one_hot_Y = np.zeros((Y.size, Y.max() + 1))\n",
    "    one_hot_Y[np.arange(Y.size), Y] = 1\n",
    "    one_hot_Y = one_hot_Y.T\n",
    "    return one_hot_Y"
   ]
  },
  {
   "cell_type": "markdown",
   "id": "0a0992fd",
   "metadata": {},
   "source": [
    "#### Explanation 7:\n",
    "This function performs one-hot encoding on the target labels Y to convert them into a one-hot encoded format."
   ]
  },
  {
   "cell_type": "markdown",
   "id": "2414ef1e",
   "metadata": {},
   "source": [
    "### Backward Propagation\n",
    "\n",
    "#### Code 8:"
   ]
  },
  {
   "cell_type": "code",
   "execution_count": 19,
   "id": "1b2248e1",
   "metadata": {},
   "outputs": [],
   "source": [
    "def backward_prop(Z1, A1, Z2, A2, W1, W2, X, Y):\n",
    "    one_hot_Y = one_hot(Y)\n",
    "    dZ2 = A2 - one_hot_Y\n",
    "    dW2 = 1 / m * dZ2.dot(A1.T)\n",
    "    db2 = 1 / m * np.sum(dZ2)\n",
    "    dZ1 = W2.T.dot(dZ2) * ReLU_deriv(Z1)\n",
    "    dW1 = 1 / m * dZ1.dot(X.T)\n",
    "    db1 = 1 / m * np.sum(dZ1)\n",
    "    return dW1, db1, dW2, db2"
   ]
  },
  {
   "cell_type": "markdown",
   "id": "edbae67e",
   "metadata": {},
   "source": [
    "#### Explanation 8:\n",
    "This code defines the backward_prop() function, which calculates gradients during backpropagation for updating the neural network's parameters."
   ]
  },
  {
   "cell_type": "markdown",
   "id": "128ba099",
   "metadata": {},
   "source": [
    "### Parameter Updates\n",
    "\n",
    "#### Code 9:"
   ]
  },
  {
   "cell_type": "code",
   "execution_count": null,
   "id": "596e8801",
   "metadata": {},
   "outputs": [],
   "source": [
    "def update_params(W1, b1, W2, b2, dW1, db1, dW2, db2, alpha):\n",
    "    W1 = W1 - alpha * dW1\n",
    "    b1 = b1 - alpha * db1    \n",
    "    W2 = W2 - alpha * dW2  \n",
    "    b2 = b2 - alpha * db2    \n",
    "    return W1, b1, W2, b2"
   ]
  },
  {
   "cell_type": "markdown",
   "id": "e7bc49d1",
   "metadata": {},
   "source": [
    "#### Explanation 9:\n",
    "This code defines the update_params() function, which updates the neural network's parameters (weights and biases) using gradient descent with a specified learning rate (alpha)."
   ]
  },
  {
   "cell_type": "markdown",
   "id": "4028caa5",
   "metadata": {},
   "source": [
    "### Prediction and Accuracy Calculation\n",
    "\n",
    "#### Code 10:"
   ]
  },
  {
   "cell_type": "code",
   "execution_count": 5,
   "id": "12d0ca47",
   "metadata": {},
   "outputs": [],
   "source": [
    "def get_predictions(A2):\n",
    "    return np.argmax(A2, 0)\n",
    "\n",
    "def get_accuracy(predictions, Y):\n",
    "    print(predictions, Y)\n",
    "    return np.sum(predictions == Y) / Y.size"
   ]
  },
  {
   "cell_type": "markdown",
   "id": "9777f47c",
   "metadata": {},
   "source": [
    "#### Explanation 10:\n",
    "These functions are used to calculate predictions and accuracy. get_predictions() returns the predicted class with the highest probability, and get_accuracy() computes the accuracy of the model."
   ]
  },
  {
   "cell_type": "markdown",
   "id": "c79569da",
   "metadata": {},
   "source": [
    "### Training the Neural Network\n",
    "\n",
    "#### Code 11:"
   ]
  },
  {
   "cell_type": "code",
   "execution_count": null,
   "id": "d7556719",
   "metadata": {},
   "outputs": [],
   "source": [
    "def gradient_descent(X, Y, alpha, iterations):\n",
    "    W1, b1, W2, b2 = init_params()\n",
    "    for i in range(iterations):\n",
    "        Z1, A1, Z2, A2 = forward_prop(W1, b1, W2, b2, X)\n",
    "        dW1, db1, dW2, db2 = backward_prop(Z1, A1, Z2, A2, W1, W2, X, Y)\n",
    "        W1, b1, W2, b2 = update_params(W1, b1, W2, b2, dW1, db1, dW2, db2, alpha)\n",
    "        if i % 10 == 0:\n",
    "            print(\"Iteration: \", i)\n",
    "            predictions = get_predictions(A2)\n",
    "            print(get_accuracy(predictions, Y))\n",
    "    return W1, b1, W2, b2"
   ]
  },
  {
   "cell_type": "markdown",
   "id": "c138308f",
   "metadata": {},
   "source": [
    "#### Explanation 11:\n",
    "This code defines the gradient_descent() function, which trains the neural network by iteratively performing forward and backward propagation and updating parameters using gradient descent. It also prints the training progress, including iteration number and accuracy."
   ]
  },
  {
   "cell_type": "code",
   "execution_count": 6,
   "id": "75c6fc2b",
   "metadata": {},
   "outputs": [
    {
     "name": "stdout",
     "output_type": "stream",
     "text": [
      "Iteration:  0\n",
      "[3 1 8 ... 8 1 1] [1 3 5 ... 3 5 8]\n",
      "0.07519512195121951\n",
      "Iteration:  10\n",
      "[3 0 0 ... 0 6 8] [1 3 5 ... 3 5 8]\n",
      "0.22609756097560976\n",
      "Iteration:  20\n",
      "[3 0 0 ... 0 6 8] [1 3 5 ... 3 5 8]\n",
      "0.30797560975609756\n",
      "Iteration:  30\n",
      "[3 0 0 ... 0 6 8] [1 3 5 ... 3 5 8]\n",
      "0.36253658536585365\n",
      "Iteration:  40\n",
      "[3 0 0 ... 8 6 8] [1 3 5 ... 3 5 8]\n",
      "0.42192682926829267\n",
      "Iteration:  50\n",
      "[3 0 0 ... 8 6 8] [1 3 5 ... 3 5 8]\n",
      "0.481390243902439\n",
      "Iteration:  60\n",
      "[3 0 0 ... 3 6 8] [1 3 5 ... 3 5 8]\n",
      "0.5306829268292683\n",
      "Iteration:  70\n",
      "[3 0 0 ... 3 6 8] [1 3 5 ... 3 5 8]\n",
      "0.5751463414634146\n",
      "Iteration:  80\n",
      "[3 0 0 ... 3 6 8] [1 3 5 ... 3 5 8]\n",
      "0.615609756097561\n",
      "Iteration:  90\n",
      "[3 0 0 ... 3 6 8] [1 3 5 ... 3 5 8]\n",
      "0.6468536585365854\n",
      "Iteration:  100\n",
      "[1 5 0 ... 3 6 8] [1 3 5 ... 3 5 8]\n",
      "0.670219512195122\n",
      "Iteration:  110\n",
      "[1 5 0 ... 3 6 8] [1 3 5 ... 3 5 8]\n",
      "0.6904634146341463\n",
      "Iteration:  120\n",
      "[1 5 0 ... 3 6 8] [1 3 5 ... 3 5 8]\n",
      "0.7072195121951219\n",
      "Iteration:  130\n",
      "[1 5 0 ... 3 6 8] [1 3 5 ... 3 5 8]\n",
      "0.7217317073170731\n",
      "Iteration:  140\n",
      "[1 5 0 ... 3 6 8] [1 3 5 ... 3 5 8]\n",
      "0.7338048780487805\n",
      "Iteration:  150\n",
      "[1 5 0 ... 3 6 8] [1 3 5 ... 3 5 8]\n",
      "0.7443170731707317\n",
      "Iteration:  160\n",
      "[1 5 0 ... 3 6 8] [1 3 5 ... 3 5 8]\n",
      "0.7535609756097561\n",
      "Iteration:  170\n",
      "[1 5 0 ... 3 6 8] [1 3 5 ... 3 5 8]\n",
      "0.7618292682926829\n",
      "Iteration:  180\n",
      "[1 5 0 ... 3 5 8] [1 3 5 ... 3 5 8]\n",
      "0.7694634146341464\n",
      "Iteration:  190\n",
      "[1 5 0 ... 3 5 8] [1 3 5 ... 3 5 8]\n",
      "0.7754634146341464\n",
      "Iteration:  200\n",
      "[1 5 0 ... 3 5 8] [1 3 5 ... 3 5 8]\n",
      "0.7817073170731708\n",
      "Iteration:  210\n",
      "[1 5 0 ... 3 5 8] [1 3 5 ... 3 5 8]\n",
      "0.7870731707317074\n",
      "Iteration:  220\n",
      "[1 5 3 ... 3 5 8] [1 3 5 ... 3 5 8]\n",
      "0.7922926829268293\n",
      "Iteration:  230\n",
      "[1 8 3 ... 3 5 8] [1 3 5 ... 3 5 8]\n",
      "0.796609756097561\n",
      "Iteration:  240\n",
      "[1 8 3 ... 3 5 8] [1 3 5 ... 3 5 8]\n",
      "0.8007073170731708\n",
      "Iteration:  250\n",
      "[1 8 3 ... 3 5 8] [1 3 5 ... 3 5 8]\n",
      "0.8044878048780488\n",
      "Iteration:  260\n",
      "[1 8 3 ... 3 5 8] [1 3 5 ... 3 5 8]\n",
      "0.808\n",
      "Iteration:  270\n",
      "[1 8 3 ... 3 5 8] [1 3 5 ... 3 5 8]\n",
      "0.8105853658536586\n",
      "Iteration:  280\n",
      "[1 8 3 ... 3 5 8] [1 3 5 ... 3 5 8]\n",
      "0.813560975609756\n",
      "Iteration:  290\n",
      "[1 8 3 ... 3 5 8] [1 3 5 ... 3 5 8]\n",
      "0.8161219512195121\n",
      "Iteration:  300\n",
      "[1 8 3 ... 3 5 8] [1 3 5 ... 3 5 8]\n",
      "0.819\n",
      "Iteration:  310\n",
      "[1 8 3 ... 3 5 8] [1 3 5 ... 3 5 8]\n",
      "0.8216341463414634\n",
      "Iteration:  320\n",
      "[1 8 3 ... 3 5 8] [1 3 5 ... 3 5 8]\n",
      "0.8241463414634146\n",
      "Iteration:  330\n",
      "[1 8 3 ... 3 5 8] [1 3 5 ... 3 5 8]\n",
      "0.8267560975609756\n",
      "Iteration:  340\n",
      "[1 8 3 ... 3 5 8] [1 3 5 ... 3 5 8]\n",
      "0.8292439024390243\n",
      "Iteration:  350\n",
      "[1 8 3 ... 3 5 8] [1 3 5 ... 3 5 8]\n",
      "0.8311951219512195\n",
      "Iteration:  360\n",
      "[1 8 3 ... 3 5 8] [1 3 5 ... 3 5 8]\n",
      "0.8330487804878048\n",
      "Iteration:  370\n",
      "[1 8 3 ... 3 5 8] [1 3 5 ... 3 5 8]\n",
      "0.8349756097560975\n",
      "Iteration:  380\n",
      "[1 8 3 ... 3 5 8] [1 3 5 ... 3 5 8]\n",
      "0.8364878048780487\n",
      "Iteration:  390\n",
      "[1 8 3 ... 3 5 8] [1 3 5 ... 3 5 8]\n",
      "0.8377317073170731\n",
      "Iteration:  400\n",
      "[1 8 3 ... 3 5 8] [1 3 5 ... 3 5 8]\n",
      "0.8394390243902439\n",
      "Iteration:  410\n",
      "[1 8 3 ... 3 5 8] [1 3 5 ... 3 5 8]\n",
      "0.8409512195121951\n",
      "Iteration:  420\n",
      "[1 8 3 ... 3 5 8] [1 3 5 ... 3 5 8]\n",
      "0.8427317073170731\n",
      "Iteration:  430\n",
      "[1 8 3 ... 3 5 8] [1 3 5 ... 3 5 8]\n",
      "0.8441463414634146\n",
      "Iteration:  440\n",
      "[1 8 3 ... 3 5 8] [1 3 5 ... 3 5 8]\n",
      "0.8454634146341463\n",
      "Iteration:  450\n",
      "[1 8 3 ... 3 5 8] [1 3 5 ... 3 5 8]\n",
      "0.8469756097560975\n",
      "Iteration:  460\n",
      "[1 8 3 ... 3 5 8] [1 3 5 ... 3 5 8]\n",
      "0.8483658536585366\n",
      "Iteration:  470\n",
      "[1 8 3 ... 3 5 8] [1 3 5 ... 3 5 8]\n",
      "0.8497073170731707\n",
      "Iteration:  480\n",
      "[1 8 3 ... 3 5 8] [1 3 5 ... 3 5 8]\n",
      "0.8505121951219512\n",
      "Iteration:  490\n",
      "[1 8 3 ... 3 5 8] [1 3 5 ... 3 5 8]\n",
      "0.8517317073170732\n"
     ]
    }
   ],
   "source": [
    "W1, b1, W2, b2 = gradient_descent(X_train, Y_train, 0.10, 500)"
   ]
  },
  {
   "cell_type": "markdown",
   "id": "6a40f365",
   "metadata": {},
   "source": [
    "### Making Predictions\n",
    "\n",
    "#### Code 12:"
   ]
  },
  {
   "cell_type": "code",
   "execution_count": 7,
   "id": "2931da0b",
   "metadata": {},
   "outputs": [],
   "source": [
    "def make_predictions(X, W1, b1, W2, b2):\n",
    "    _, _, _, A2 = forward_prop(W1, b1, W2, b2, X)\n",
    "    predictions = get_predictions(A2)\n",
    "    return predictions\n",
    "\n",
    "def test_prediction(index, W1, b1, W2, b2):\n",
    "    current_image = X_train[:, index, None]\n",
    "    prediction = make_predictions(X_train[:, index, None], W1, b1, W2, b2)\n",
    "    label = Y_train[index]\n",
    "    print(\"Prediction: \", prediction)\n",
    "    print(\"Label: \", label)\n",
    "    \n",
    "    current_image = current_image.reshape((28, 28)) * 255\n",
    "    plt.gray()\n",
    "    plt.imshow(current_image, interpolation='nearest')\n",
    "    plt.show()"
   ]
  },
  {
   "cell_type": "markdown",
   "id": "1325269c",
   "metadata": {},
   "source": [
    "#### Explanation 12:\n",
    "These functions are used for making predictions on specific examples from the training set and visualizing the results. make_predictions() computes predictions, and test_prediction() displays the predicted digit along with the actual label as an image."
   ]
  },
  {
   "cell_type": "markdown",
   "id": "5ecc4e74",
   "metadata": {},
   "source": [
    "### Testing and Evaluation\n",
    "\n",
    "#### Code 13:"
   ]
  },
  {
   "cell_type": "code",
   "execution_count": 8,
   "id": "fa166546",
   "metadata": {},
   "outputs": [
    {
     "name": "stdout",
     "output_type": "stream",
     "text": [
      "Prediction:  [1]\n",
      "Label:  1\n"
     ]
    },
    {
     "data": {
      "image/png": "[encoded data removed]",
      "text/plain": [
       "<Figure size 640x480 with 1 Axes>"
      ]
     },
     "metadata": {},
     "output_type": "display_data"
    },
    {
     "name": "stdout",
     "output_type": "stream",
     "text": [
      "Prediction:  [8]\n",
      "Label:  3\n"
     ]
    },
    {
     "data": {
      "image/png": "[encoded data removed]",
      "text/plain": [
       "<Figure size 640x480 with 1 Axes>"
      ]
     },
     "metadata": {},
     "output_type": "display_data"
    },
    {
     "name": "stdout",
     "output_type": "stream",
     "text": [
      "Prediction:  [3]\n",
      "Label:  5\n"
     ]
    },
    {
     "data": {
      "image/png": "[encoded data removed]",
      "text/plain": [
       "<Figure size 640x480 with 1 Axes>"
      ]
     },
     "metadata": {},
     "output_type": "display_data"
    },
    {
     "name": "stdout",
     "output_type": "stream",
     "text": [
      "Prediction:  [5]\n",
      "Label:  5\n"
     ]
    },
    {
     "data": {
      "image/png": "[encoded data removed]",
      "text/plain": [
       "<Figure size 640x480 with 1 Axes>"
      ]
     },
     "metadata": {},
     "output_type": "display_data"
    }
   ],
   "source": [
    "test_prediction(0, W1, b1, W2, b2)\n",
    "test_prediction(1, W1, b1, W2, b2)\n",
    "test_prediction(2, W1, b1, W2, b2)\n",
    "test_prediction(3, W1, b1, W2, b2)"
   ]
  },
  {
   "cell_type": "code",
   "execution_count": 9,
   "id": "86ef3883",
   "metadata": {},
   "outputs": [
    {
     "name": "stdout",
     "output_type": "stream",
     "text": [
      "[2 2 4 6 1 0 3 9 0 9 7 8 7 4 5 6 0 3 9 4 4 9 3 4 9 0 0 8 9 7 1 5 4 1 1 5 7\n",
      " 3 2 3 4 2 3 4 2 6 4 2 1 2 0 5 9 8 2 3 9 1 4 1 4 1 5 0 3 2 9 4 4 9 0 3 9 1\n",
      " 8 1 0 9 8 1 8 3 2 3 7 9 5 9 0 4 0 2 9 8 0 4 5 8 5 0 0 6 2 6 9 3 1 9 0 7 4\n",
      " 5 3 2 5 5 3 1 4 1 3 0 3 9 8 0 9 0 5 0 4 0 5 0 1 6 2 0 0 2 1 0 4 9 4 8 1 1\n",
      " 9 6 3 5 8 4 7 7 0 3 9 1 7 6 0 8 4 7 3 6 8 4 0 3 6 3 4 2 8 7 2 1 4 2 7 2 5\n",
      " 8 3 6 7 3 5 4 9 1 4 5 3 6 4 6 0 1 6 6 5 2 1 2 9 3 2 4 1 4 4 9 5 8 9 9 1 5\n",
      " 3 7 8 0 7 2 2 4 0 1 9 2 0 1 3 2 7 6 1 1 6 0 0 8 4 1 2 0 8 2 1 3 1 6 8 0 6\n",
      " 9 3 8 3 2 6 8 8 3 4 1 6 3 2 2 3 7 4 8 4 3 4 0 9 7 8 6 7 8 0 0 2 8 8 9 9 3\n",
      " 5 4 9 2 9 4 3 9 0 9 6 4 0 7 7 1 9 4 8 9 7 4 1 9 8 5 4 2 8 9 8 7 6 7 2 0 4\n",
      " 5 8 4 3 8 9 9 4 2 4 2 1 9 6 4 1 6 9 0 6 5 4 7 3 9 1 3 5 4 1 2 0 2 9 5 3 0\n",
      " 9 8 1 8 8 8 6 7 1 3 8 1 2 3 8 9 7 1 1 7 8 0 7 6 6 6 9 4 8 9 9 8 0 1 3 5 3\n",
      " 1 2 4 6 6 9 6 0 6 6 2 5 4 0 1 0 0 0 3 7 6 6 6 2 2 9 2 8 9 0 1 0 9 1 7 2 4\n",
      " 5 3 9 3 1 9 7 1 8 0 5 4 8 3 4 0 0 0 3 1 6 0 4 5 4 2 0 1 5 7 9 5 2 5 7 7 1\n",
      " 4 9 6 6 8 7 9 1 5 8 5 3 9 6 3 5 9 1 0 0 1 1 7 7 7 4 4 4 0 8 2 9 1 2 9 7 5\n",
      " 4 7 8 6 3 8 2 2 6 7 5 2 5 4 4 1 6 1 9 3 9 0 1 1 9 4 6 5 8 2 9 6 2 1 0 5 7\n",
      " 1 3 7 1 7 5 3 3 1 0 6 6 9 6 0 1 0 6 8 7 3 5 0 7 9 7 9 0 1 4 4 9 3 6 4 4 5\n",
      " 8 8 5 7 4 9 9 8 1 8 6 2 6 9 9 4 2 6 0 1 1 6 6 8 7 2 3 9 5 9 7 5 2 1 5 0 9\n",
      " 0 1 8 7 0 1 6 9 7 6 6 4 9 3 1 3 0 9 9 2 4 4 2 0 4 8 1 2 1 8 6 7 3 8 8 6 5\n",
      " 7 3 5 9 0 3 7 0 8 4 1 0 9 7 4 9 2 2 8 7 0 0 5 5 7 1 7 9 8 9 6 0 4 2 3 0 9\n",
      " 1 3 9 4 2 5 1 4 6 9 3 1 5 6 7 3 2 2 8 5 8 1 1 9 6 4 6 7 6 8 7 4 7 8 4 3 8\n",
      " 2 3 5 7 3 5 4 3 9 7 3 1 2 6 6 2 6 1 4 1 5 5 2 0 9 0 2 2 3 6 5 8 9 5 8 7 4\n",
      " 4 1 6 2 8 5 2 8 3 6 0 9 5 0 3 2 0 4 4 3 0 4 6 9 1 0 3 7 8 7 4 1 7 4 1 2 6\n",
      " 8 2 9 5 3 4 8 8 3 1 8 9 7 6 8 0 4 0 8 4 5 7 0 5 5 8 4 0 5 0 1 4 1 1 4 6 8\n",
      " 1 3 2 5 2 5 0 7 2 6 7 5 3 1 6 8 2 3 7 2 9 7 1 4 8 9 4 5 6 1 3 3 8 6 8 9 1\n",
      " 7 1 4 7 9 1 9 6 9 8 3 4 7 2 9 8 7 2 2 7 8 6 1 9 0 1 0 1 5 2 9 5 7 4 1 9 4\n",
      " 3 8 6 3 9 1 3 8 3 1 1 3 3 0 9 9 5 8 0 8 5 2 4 9 2 5 5 3 0 7 3 6 7 2 2 3 0\n",
      " 1 0 0 6 7 1 7 7 2 4 6 7 7 9 5 4 3 4 4 9 9 0 9 4 2 7 0 2 3 9 9 3 6 1 9 4 2\n",
      " 8] [2 2 4 6 1 0 3 9 0 7 7 8 7 4 5 6 0 3 9 4 4 7 3 9 9 0 0 2 4 7 1 5 4 8 1 8 7\n",
      " 0 2 5 4 2 3 4 2 6 4 2 1 2 0 3 8 8 3 3 9 1 4 1 4 1 5 0 3 2 9 4 4 9 0 3 9 1\n",
      " 5 1 0 9 8 1 8 3 2 3 7 4 6 9 0 4 0 2 9 7 0 4 5 8 5 5 0 9 2 6 9 3 4 9 0 7 4\n",
      " 5 8 8 5 5 3 1 4 1 2 0 3 9 8 0 9 0 6 0 4 0 5 0 1 6 2 0 0 2 1 0 4 9 4 8 1 1\n",
      " 4 6 3 5 5 4 7 7 0 3 3 1 7 6 0 8 2 8 3 6 8 9 0 3 6 3 9 2 8 7 2 1 4 2 7 5 5\n",
      " 8 3 6 7 3 5 6 9 1 4 5 3 6 4 6 0 1 6 6 5 2 1 2 9 7 2 4 1 4 4 9 5 8 9 9 1 5\n",
      " 3 7 8 9 7 2 6 4 0 1 9 2 0 1 3 2 7 6 1 1 6 0 0 9 4 1 2 0 8 2 1 3 1 6 8 0 4\n",
      " 9 8 8 2 2 6 8 8 3 4 1 6 3 2 2 3 9 4 3 4 3 4 0 9 7 2 6 7 8 0 0 2 5 8 9 9 3\n",
      " 5 4 7 2 9 4 3 9 0 9 6 4 0 7 7 1 9 6 8 9 7 4 1 9 8 5 4 2 8 3 8 7 6 7 7 0 4\n",
      " 5 8 4 3 8 9 9 4 2 4 2 1 9 6 4 1 6 7 0 6 5 4 7 3 9 1 3 9 4 1 2 0 2 9 5 3 0\n",
      " 9 8 1 8 8 8 2 7 1 2 8 1 2 3 8 3 7 1 8 7 8 0 5 6 6 6 9 4 8 7 4 8 0 1 3 5 3\n",
      " 1 2 4 6 0 9 6 0 0 6 8 5 4 0 1 0 5 0 2 7 6 6 6 2 2 9 2 8 9 0 1 0 9 1 7 2 4\n",
      " 5 3 7 3 4 9 7 8 8 0 3 4 8 3 4 0 0 0 3 1 6 8 4 5 4 2 0 1 5 7 4 5 2 9 7 7 1\n",
      " 4 7 6 6 8 7 9 1 5 8 5 3 9 6 3 5 9 8 0 4 1 1 7 7 7 9 4 9 0 3 2 4 1 2 9 7 5\n",
      " 4 7 3 6 2 8 2 2 6 7 5 0 5 4 4 1 6 1 9 3 9 0 1 1 9 4 6 5 8 6 9 6 2 1 0 8 7\n",
      " 1 3 2 1 7 5 3 3 1 5 6 6 9 6 0 1 0 6 8 7 3 5 8 7 9 7 9 0 1 4 4 9 3 6 4 4 5\n",
      " 8 8 5 7 4 9 9 8 1 8 6 2 6 9 9 4 2 6 0 1 1 6 6 8 7 2 3 4 5 9 7 5 2 1 5 0 9\n",
      " 0 7 9 7 0 1 6 9 7 2 6 4 7 3 8 3 0 9 9 2 9 4 2 0 4 8 8 2 4 8 6 7 3 8 8 2 5\n",
      " 7 3 5 9 0 0 9 0 8 4 1 0 9 7 4 9 2 2 8 7 5 0 5 5 7 1 7 7 5 8 6 0 4 2 3 0 4\n",
      " 1 3 9 4 2 5 1 4 2 9 3 1 5 6 7 3 2 2 9 5 8 1 7 3 6 4 6 9 6 8 7 4 7 8 4 3 3\n",
      " 2 3 8 9 3 5 4 3 9 7 3 1 6 6 6 2 4 1 4 1 5 5 2 0 9 0 2 2 3 6 5 8 9 5 8 7 4\n",
      " 4 1 6 2 5 0 7 1 8 6 0 9 5 0 3 2 0 4 4 3 0 4 6 9 1 0 3 7 8 7 4 1 9 4 1 2 6\n",
      " 8 2 9 5 3 4 5 8 3 1 8 2 7 6 8 0 4 0 7 7 8 7 0 5 5 5 4 0 3 0 1 4 1 1 4 6 8\n",
      " 1 3 2 5 2 5 0 7 2 6 7 5 3 1 6 5 2 3 7 2 4 7 1 4 8 9 4 5 6 1 3 3 1 6 8 9 1\n",
      " 7 2 4 7 9 1 9 6 9 8 3 9 7 3 9 8 7 2 2 7 2 4 1 9 0 1 0 1 5 2 9 5 7 4 1 7 4\n",
      " 3 8 6 3 9 1 8 8 3 1 1 3 3 0 9 4 5 8 0 8 5 2 4 7 2 5 5 3 0 7 3 6 7 2 2 8 0\n",
      " 1 0 0 5 5 1 3 7 2 4 6 7 7 9 5 4 3 4 9 9 8 0 9 7 2 7 5 2 3 9 9 3 7 1 9 4 2\n",
      " 8]\n"
     ]
    },
    {
     "data": {
      "text/plain": [
       "0.856"
      ]
     },
     "execution_count": 9,
     "metadata": {},
     "output_type": "execute_result"
    }
   ],
   "source": [
    "dev_predictions = make_predictions(X_dev, W1, b1, W2, b2)\n",
    "get_accuracy(dev_predictions, Y_dev)"
   ]
  },
  {
   "cell_type": "markdown",
   "id": "a423c15d",
   "metadata": {},
   "source": [
    "### Explanation 13:\n",
    "This code tests the trained neural network by making predictions on specific examples from the training set and calculates the accuracy of the model on the development set (X_dev) using the get_accuracy() function."
   ]
  },
  {
   "cell_type": "markdown",
   "id": "64c468dc",
   "metadata": {},
   "source": [
    "### Evaluation\n",
    "\n",
    "We evaluated our model's accuracy on a development dataset. Achieving an accuracy of 85% demonstrates that our model is effective in recognizing handwritten digits."
   ]
  },
  {
   "cell_type": "markdown",
   "id": "f3e19c35",
   "metadata": {},
   "source": [
    "# Final Report"
   ]
  },
  {
   "cell_type": "markdown",
   "id": "df2751af",
   "metadata": {},
   "source": [
    "Building a neural network for handwritten digit recognition is a significant achievement. Our model, with an accuracy of 85%, showcases the power of machine learning and the potential for real-world applications. It's important to note that further optimization and fine-tuning could potentially improve accuracy even more.\n",
    "\n",
    "\n",
    "This project serves as an educational example for creating neural networks from scratch and applying them to image classification tasks, providing a solid foundation for more complex image recognition projects and offering insights into the mathematical and algorithmic aspects of neural networks. \n",
    "\n",
    "The provided code implements a neural network for image classification on the MNIST dataset, covering various essential components such as data preprocessing, parameter initialization, forward and backward propagation, parameter updates using gradient descent, prediction generation, and accuracy evaluation. \n",
    "\n",
    "The neural network architecture consists of two hidden layers with ReLU activation functions and a softmax activation in the output layer for multi-class classification. The code successfully trains the neural network and provides a means to visualize predictions for individual examples. This implementation serves as a fundamental example of building and training a neural network for image classification tasks, and it can be further optimized for improved accuracy and generalization."
   ]
  },
  {
   "cell_type": "markdown",
   "id": "419769cf",
   "metadata": {},
   "source": [
    "## Thanks for reading!"
   ]
  }
 ],
 "metadata": {
  "kernelspec": {
   "display_name": "Python 3 (ipykernel)",
   "language": "python",
   "name": "python3"
  },
  "language_info": {
   "codemirror_mode": {
    "name": "ipython",
    "version": 3
   },
   "file_extension": ".py",
   "mimetype": "text/x-python",
   "name": "python",
   "nbconvert_exporter": "python",
   "pygments_lexer": "ipython3",
   "version": "3.10.9"
  }
 },
 "nbformat": 4,
 "nbformat_minor": 5
}
